{
 "cells": [
  {
   "cell_type": "markdown",
   "id": "f75343b5",
   "metadata": {},
   "source": [
    "# Quantum Multiplier\n",
    "\n",
    "Initalization and imports:"
   ]
  },
  {
   "cell_type": "code",
   "execution_count": null,
   "id": "6e76e1f9",
   "metadata": {},
   "outputs": [],
   "source": [
    "# Initializing and importing\n",
    "from qiskit import IBMQ, Aer\n",
    "from qiskit_ibm_provider import IBMProvider\n",
    "IBMProvider.save_account(token='cb991aecda3a4d2636c6fdb450e137420349af9f3a3b7df8f4d0540b5da41df6462f9924dc1636cf7c3bc9d0fabbdf9297c589160efcb7358dda06b1c5726a5f')\n",
    "provider = IBMProvider()\n",
    "\n",
    "import building_blocks\n",
    "import runtime"
   ]
  },
  {
   "cell_type": "code",
   "execution_count": null,
   "id": "248f3dad",
   "metadata": {},
   "outputs": [],
   "source": [
    "# Settings\n",
    "number_1 = 30\n",
    "number_2 = 2\n",
    "shots = 1\n",
    "backend = provider.get_backend('ibmq_qasm_simulator')"
   ]
  },
  {
   "cell_type": "markdown",
   "id": "c9c055b7",
   "metadata": {},
   "source": [
    "**For running the full program, run this cell:**\n",
    "\n",
    "NOTE: The high-level circuit diagram will be shown in a compressed one-line fashion. For viewing it in its real dimensions press right-click on it, and then press \"Open image in new tab\" (first option)."
   ]
  },
  {
   "cell_type": "code",
   "execution_count": 2,
   "id": "39b5ba49",
   "metadata": {},
   "outputs": [
    {
     "ename": "NameError",
     "evalue": "name 'interface' is not defined",
     "output_type": "error",
     "traceback": [
      "\u001b[0;31m---------------------------------------------------------------------------\u001b[0m",
      "\u001b[0;31mNameError\u001b[0m                                 Traceback (most recent call last)",
      "Cell \u001b[0;32mIn[2], line 2\u001b[0m\n\u001b[1;32m      1\u001b[0m \u001b[38;5;66;03m# Run Program\u001b[39;00m\n\u001b[0;32m----> 2\u001b[0m \u001b[43minterface\u001b[49m\u001b[38;5;241m.\u001b[39mRunProgram(number_1 \u001b[38;5;241m=\u001b[39m number_1, number_2 \u001b[38;5;241m=\u001b[39m number_2, backend \u001b[38;5;241m=\u001b[39m backend, shots \u001b[38;5;241m=\u001b[39m shots)\n",
      "\u001b[0;31mNameError\u001b[0m: name 'interface' is not defined"
     ]
    }
   ],
   "source": [
    "# Run Program\n",
    "interface.RunProgram(number_1 = number_1, number_2 = number_2, backend = backend, shots = shots)"
   ]
  },
  {
   "cell_type": "markdown",
   "id": "83501a8c",
   "metadata": {},
   "source": [
    "**For getting a simple answer - run this cell:**"
   ]
  },
  {
   "cell_type": "code",
   "execution_count": null,
   "id": "4b1c1120",
   "metadata": {
    "collapsed": true
   },
   "outputs": [],
   "source": [
    "# Multiplication answer only\n",
    "interface.multiplier(number_1 = number_1, number_2 = number_2, backend = backend, shots = shots)['product']"
   ]
  },
  {
   "cell_type": "code",
   "execution_count": null,
   "id": "42bd994e",
   "metadata": {
    "collapsed": true
   },
   "outputs": [],
   "source": []
  }
 ],
 "metadata": {
  "kernelspec": {
   "display_name": "Python 3 (ipykernel)",
   "language": "python",
   "name": "python3"
  },
  "language_info": {
   "codemirror_mode": {
    "name": "ipython",
    "version": 3
   },
   "file_extension": ".py",
   "mimetype": "text/x-python",
   "name": "python",
   "nbconvert_exporter": "python",
   "pygments_lexer": "ipython3",
   "version": "3.8.10"
  }
 },
 "nbformat": 4,
 "nbformat_minor": 5
}
